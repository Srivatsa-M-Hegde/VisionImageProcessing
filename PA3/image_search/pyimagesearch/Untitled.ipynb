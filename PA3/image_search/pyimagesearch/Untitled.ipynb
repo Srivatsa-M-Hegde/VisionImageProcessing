{
 "cells": [
  {
   "cell_type": "code",
   "execution_count": 1,
   "metadata": {},
   "outputs": [],
   "source": [
    "# author: Adrian Rosebrock\n",
    "# date: 27 January 2014\n",
    "# website: http://www.pyimagesearch.com\n",
    "\n",
    "# import the necessary packages\n",
    "import numpy as np\n",
    "import cv2\n",
    "\n",
    "class RGBHistogram:\n",
    "    def __init__(self, bins):\n",
    "        # store the number of bins the histogram will use\n",
    "        self.bins = bins\n",
    "\n",
    "    def describe(self, image):\n",
    "        # compute a 3D histogram in the RGB colorspace,\n",
    "        # then normalize the histogram so that images\n",
    "        # with the same content, but either scaled larger\n",
    "        # or smaller will have (roughly) the same histogram\n",
    "        hist = cv2.calcHist([image], [0, 1, 2],\n",
    "            None, self.bins, [0, 256, 0, 256, 0, 256])\n",
    "        hist = cv2.normalize(hist)\n",
    "\n",
    "        # return out 3D histogram as a flattened array\n",
    "        return hist.flatten()"
   ]
  },
  {
   "cell_type": "code",
   "execution_count": 3,
   "metadata": {},
   "outputs": [
    {
     "name": "stderr",
     "output_type": "stream",
     "text": [
      "usage: ipykernel_launcher.py [-h] -d DATASET -i INDEX\n",
      "ipykernel_launcher.py: error: argument -d/--dataset is required\n"
     ]
    },
    {
     "ename": "SystemExit",
     "evalue": "2",
     "output_type": "error",
     "traceback": [
      "An exception has occurred, use %tb to see the full traceback.\n",
      "\u001b[1;31mSystemExit\u001b[0m\u001b[1;31m:\u001b[0m 2\n"
     ]
    },
    {
     "name": "stderr",
     "output_type": "stream",
     "text": [
      "C:\\Users\\Keswani\\Anaconda2\\lib\\site-packages\\IPython\\core\\interactiveshell.py:2890: UserWarning: To exit: use 'exit', 'quit', or Ctrl-D.\n",
      "  warn(\"To exit: use 'exit', 'quit', or Ctrl-D.\", stacklevel=1)\n"
     ]
    }
   ],
   "source": [
    "# import the necessary packages\n",
    "#from pyimagesearch.rgbhistogram import RGBHistogram\n",
    "from imutils.paths import list_images\n",
    "import argparse\n",
    "import pickle\n",
    "import cv2\n",
    " \n",
    "# construct the argument parser and parse the arguments\n",
    "ap = argparse.ArgumentParser()\n",
    "ap.add_argument(\"-d\", \"--dataset\", required = True,\n",
    "    help = \"Path to the directory that contains the images to be indexed\")\n",
    "ap.add_argument(\"-i\", \"--index\", required = True,\n",
    "    help = \"Path to where the computed index will be stored\")\n",
    "args = vars(ap.parse_args())\n",
    " \n",
    "# initialize the index dictionary to store our our quantifed\n",
    "# images, with the 'key' of the dictionary being the image\n",
    "# filename and the 'value' our computed features\n",
    "index = {}"
   ]
  },
  {
   "cell_type": "code",
   "execution_count": null,
   "metadata": {},
   "outputs": [],
   "source": []
  }
 ],
 "metadata": {
  "kernelspec": {
   "display_name": "Python 2",
   "language": "python",
   "name": "python2"
  },
  "language_info": {
   "codemirror_mode": {
    "name": "ipython",
    "version": 2
   },
   "file_extension": ".py",
   "mimetype": "text/x-python",
   "name": "python",
   "nbconvert_exporter": "python",
   "pygments_lexer": "ipython2",
   "version": "2.7.14"
  }
 },
 "nbformat": 4,
 "nbformat_minor": 2
}
