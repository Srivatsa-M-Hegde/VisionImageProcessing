{
 "cells": [
  {
   "cell_type": "code",
   "execution_count": 1,
   "metadata": {},
   "outputs": [],
   "source": [
    "# author: Adrian Rosebrock\n",
    "# date: 27 January 2014\n",
    "# website: http://www.pyimagesearch.com\n",
    "\n",
    "# import the necessary packages\n",
    "import numpy as np\n",
    "import cv2\n",
    "\n",
    "class RGBHistogram:\n",
    "    def __init__(self, bins):\n",
    "        # store the number of bins the histogram will use\n",
    "        self.bins = bins\n",
    "\n",
    "    def describe(self, image):\n",
    "        # compute a 3D histogram in the RGB colorspace,\n",
    "        # then normalize the histogram so that images\n",
    "        # with the same content, but either scaled larger\n",
    "        # or smaller will have (roughly) the same histogram\n",
    "        hist = cv2.calcHist([image], [0, 1, 2],\n",
    "            None, self.bins, [0, 256, 0, 256, 0, 256])\n",
    "        hist = cv2.normalize(hist)\n",
    "\n",
    "        # return out 3D histogram as a flattened array\n",
    "        return hist.flatten()"
   ]
  },
  {
   "cell_type": "code",
   "execution_count": 2,
   "metadata": {},
   "outputs": [
    {
     "ename": "ImportError",
     "evalue": "No module named rgbhistogram",
     "output_type": "error",
     "traceback": [
      "\u001b[1;31m---------------------------------------------------------------------------\u001b[0m",
      "\u001b[1;31mImportError\u001b[0m                               Traceback (most recent call last)",
      "\u001b[1;32m<ipython-input-2-115159382e22>\u001b[0m in \u001b[0;36m<module>\u001b[1;34m()\u001b[0m\n\u001b[0;32m      1\u001b[0m \u001b[1;31m# import the necessary packages\u001b[0m\u001b[1;33m\u001b[0m\u001b[1;33m\u001b[0m\u001b[0m\n\u001b[1;32m----> 2\u001b[1;33m \u001b[1;32mfrom\u001b[0m \u001b[0mpyimagesearch\u001b[0m\u001b[1;33m.\u001b[0m\u001b[0mrgbhistogram\u001b[0m \u001b[1;32mimport\u001b[0m \u001b[0mRGBHistogram\u001b[0m\u001b[1;33m\u001b[0m\u001b[0m\n\u001b[0m\u001b[0;32m      3\u001b[0m \u001b[1;32mfrom\u001b[0m \u001b[0mimutils\u001b[0m\u001b[1;33m.\u001b[0m\u001b[0mpaths\u001b[0m \u001b[1;32mimport\u001b[0m \u001b[0mlist_images\u001b[0m\u001b[1;33m\u001b[0m\u001b[0m\n\u001b[0;32m      4\u001b[0m \u001b[1;32mimport\u001b[0m \u001b[0margparse\u001b[0m\u001b[1;33m\u001b[0m\u001b[0m\n\u001b[0;32m      5\u001b[0m \u001b[1;32mimport\u001b[0m \u001b[0mpickle\u001b[0m\u001b[1;33m\u001b[0m\u001b[0m\n",
      "\u001b[1;31mImportError\u001b[0m: No module named rgbhistogram"
     ]
    }
   ],
   "source": [
    "# import the necessary packages\n",
    "#from pyimagesearch.rgbhistogram import RGBHistogram\n",
    "from imutils.paths import list_images\n",
    "import argparse\n",
    "import pickle\n",
    "import cv2\n",
    " \n",
    "# construct the argument parser and parse the arguments\n",
    "ap = argparse.ArgumentParser()\n",
    "ap.add_argument(\"-d\", \"--dataset\", required = True,\n",
    "    help = \"Path to the directory that contains the images to be indexed\")\n",
    "ap.add_argument(\"-i\", \"--index\", required = True,\n",
    "    help = \"Path to where the computed index will be stored\")\n",
    "args = vars(ap.parse_args())\n",
    " \n",
    "# initialize the index dictionary to store our our quantifed\n",
    "# images, with the 'key' of the dictionary being the image\n",
    "# filename and the 'value' our computed features\n",
    "index = {}"
   ]
  },
  {
   "cell_type": "code",
   "execution_count": null,
   "metadata": {},
   "outputs": [],
   "source": []
  }
 ],
 "metadata": {
  "kernelspec": {
   "display_name": "Python 2",
   "language": "python",
   "name": "python2"
  },
  "language_info": {
   "codemirror_mode": {
    "name": "ipython",
    "version": 2
   },
   "file_extension": ".py",
   "mimetype": "text/x-python",
   "name": "python",
   "nbconvert_exporter": "python",
   "pygments_lexer": "ipython2",
   "version": "2.7.14"
  }
 },
 "nbformat": 4,
 "nbformat_minor": 2
}
